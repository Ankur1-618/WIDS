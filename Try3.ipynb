{
 "cells": [
  {
   "cell_type": "code",
   "execution_count": 1,
   "id": "215c0b3d",
   "metadata": {},
   "outputs": [],
   "source": [
    "## Here we go again"
   ]
  },
  {
   "cell_type": "code",
   "execution_count": 2,
   "id": "09693489",
   "metadata": {},
   "outputs": [],
   "source": [
    "# Import necessary libraries\n",
    "import pandas as pd\n",
    "import numpy as np\n",
    "import matplotlib.pyplot as plt\n",
    "import seaborn as sns\n",
    "from sklearn.metrics import mean_absolute_error, mean_squared_error\n",
    "from sklearn.preprocessing import StandardScaler, OneHotEncoder, LabelEncoder\n",
    "from sklearn.model_selection import train_test_split, cross_val_score, GridSearchCV\n",
    "from sklearn.ensemble import RandomForestRegressor, GradientBoostingRegressor, AdaBoostRegressor, ExtraTreesRegressor\n",
    "from catboost import CatBoostRegressor\n",
    "from xgboost import XGBRegressor\n",
    "from lightgbm import LGBMRegressor\n",
    "from sklearn.neural_network import MLPRegressor\n",
    "from scipy.stats import linregress\n"
   ]
  },
  {
   "cell_type": "code",
   "execution_count": 3,
   "id": "46bd4e73",
   "metadata": {},
   "outputs": [],
   "source": [
    "# Load the datasets\n",
    "train_data = pd.read_csv('C://Users//Hp//Documents//WIDs//train.csv')\n",
    "test_data = pd.read_csv('C://Users//Hp//Documents//WIDs//test.csv')\n",
    "solution_data= pd.read_csv('C://Users//Hp//Documents//WIDs//solution_template.csv')"
   ]
  },
  {
   "cell_type": "code",
   "execution_count": 4,
   "id": "d3bfb363",
   "metadata": {},
   "outputs": [
    {
     "data": {
      "text/html": [
       "<div>\n",
       "<style scoped>\n",
       "    .dataframe tbody tr th:only-of-type {\n",
       "        vertical-align: middle;\n",
       "    }\n",
       "\n",
       "    .dataframe tbody tr th {\n",
       "        vertical-align: top;\n",
       "    }\n",
       "\n",
       "    .dataframe thead th {\n",
       "        text-align: right;\n",
       "    }\n",
       "</style>\n",
       "<table border=\"1\" class=\"dataframe\">\n",
       "  <thead>\n",
       "    <tr style=\"text-align: right;\">\n",
       "      <th></th>\n",
       "      <th>patient_id</th>\n",
       "      <th>patient_race</th>\n",
       "      <th>payer_type</th>\n",
       "      <th>patient_state</th>\n",
       "      <th>patient_zip3</th>\n",
       "      <th>Region</th>\n",
       "      <th>Division</th>\n",
       "      <th>patient_age</th>\n",
       "      <th>patient_gender</th>\n",
       "      <th>bmi</th>\n",
       "      <th>...</th>\n",
       "      <th>Average of Apr-18</th>\n",
       "      <th>Average of May-18</th>\n",
       "      <th>Average of Jun-18</th>\n",
       "      <th>Average of Jul-18</th>\n",
       "      <th>Average of Aug-18</th>\n",
       "      <th>Average of Sep-18</th>\n",
       "      <th>Average of Oct-18</th>\n",
       "      <th>Average of Nov-18</th>\n",
       "      <th>Average of Dec-18</th>\n",
       "      <th>metastatic_diagnosis_period</th>\n",
       "    </tr>\n",
       "  </thead>\n",
       "  <tbody>\n",
       "    <tr>\n",
       "      <th>0</th>\n",
       "      <td>268700</td>\n",
       "      <td>NaN</td>\n",
       "      <td>COMMERCIAL</td>\n",
       "      <td>AR</td>\n",
       "      <td>724</td>\n",
       "      <td>South</td>\n",
       "      <td>West South Central</td>\n",
       "      <td>39</td>\n",
       "      <td>F</td>\n",
       "      <td>NaN</td>\n",
       "      <td>...</td>\n",
       "      <td>52.55</td>\n",
       "      <td>74.77</td>\n",
       "      <td>79.96</td>\n",
       "      <td>81.69</td>\n",
       "      <td>78.30</td>\n",
       "      <td>74.56</td>\n",
       "      <td>59.98</td>\n",
       "      <td>42.98</td>\n",
       "      <td>41.18</td>\n",
       "      <td>191</td>\n",
       "    </tr>\n",
       "    <tr>\n",
       "      <th>1</th>\n",
       "      <td>484983</td>\n",
       "      <td>White</td>\n",
       "      <td>NaN</td>\n",
       "      <td>IL</td>\n",
       "      <td>629</td>\n",
       "      <td>Midwest</td>\n",
       "      <td>East North Central</td>\n",
       "      <td>55</td>\n",
       "      <td>F</td>\n",
       "      <td>35.36</td>\n",
       "      <td>...</td>\n",
       "      <td>49.30</td>\n",
       "      <td>72.87</td>\n",
       "      <td>77.40</td>\n",
       "      <td>77.43</td>\n",
       "      <td>75.83</td>\n",
       "      <td>72.64</td>\n",
       "      <td>58.36</td>\n",
       "      <td>39.68</td>\n",
       "      <td>39.71</td>\n",
       "      <td>33</td>\n",
       "    </tr>\n",
       "    <tr>\n",
       "      <th>2</th>\n",
       "      <td>277055</td>\n",
       "      <td>NaN</td>\n",
       "      <td>COMMERCIAL</td>\n",
       "      <td>CA</td>\n",
       "      <td>925</td>\n",
       "      <td>West</td>\n",
       "      <td>Pacific</td>\n",
       "      <td>59</td>\n",
       "      <td>F</td>\n",
       "      <td>NaN</td>\n",
       "      <td>...</td>\n",
       "      <td>68.50</td>\n",
       "      <td>70.31</td>\n",
       "      <td>78.61</td>\n",
       "      <td>87.24</td>\n",
       "      <td>85.52</td>\n",
       "      <td>80.75</td>\n",
       "      <td>70.81</td>\n",
       "      <td>62.67</td>\n",
       "      <td>55.58</td>\n",
       "      <td>157</td>\n",
       "    </tr>\n",
       "    <tr>\n",
       "      <th>3</th>\n",
       "      <td>320055</td>\n",
       "      <td>Hispanic</td>\n",
       "      <td>MEDICAID</td>\n",
       "      <td>CA</td>\n",
       "      <td>900</td>\n",
       "      <td>West</td>\n",
       "      <td>Pacific</td>\n",
       "      <td>59</td>\n",
       "      <td>F</td>\n",
       "      <td>NaN</td>\n",
       "      <td>...</td>\n",
       "      <td>63.34</td>\n",
       "      <td>63.10</td>\n",
       "      <td>67.45</td>\n",
       "      <td>75.86</td>\n",
       "      <td>75.24</td>\n",
       "      <td>71.10</td>\n",
       "      <td>68.95</td>\n",
       "      <td>65.46</td>\n",
       "      <td>59.46</td>\n",
       "      <td>146</td>\n",
       "    </tr>\n",
       "    <tr>\n",
       "      <th>4</th>\n",
       "      <td>190386</td>\n",
       "      <td>NaN</td>\n",
       "      <td>COMMERCIAL</td>\n",
       "      <td>CA</td>\n",
       "      <td>934</td>\n",
       "      <td>West</td>\n",
       "      <td>Pacific</td>\n",
       "      <td>71</td>\n",
       "      <td>F</td>\n",
       "      <td>NaN</td>\n",
       "      <td>...</td>\n",
       "      <td>59.45</td>\n",
       "      <td>60.24</td>\n",
       "      <td>64.77</td>\n",
       "      <td>69.81</td>\n",
       "      <td>70.13</td>\n",
       "      <td>68.10</td>\n",
       "      <td>65.38</td>\n",
       "      <td>60.72</td>\n",
       "      <td>54.08</td>\n",
       "      <td>286</td>\n",
       "    </tr>\n",
       "  </tbody>\n",
       "</table>\n",
       "<p>5 rows × 152 columns</p>\n",
       "</div>"
      ],
      "text/plain": [
       "   patient_id patient_race  payer_type patient_state  patient_zip3   Region  \\\n",
       "0      268700          NaN  COMMERCIAL            AR           724    South   \n",
       "1      484983        White         NaN            IL           629  Midwest   \n",
       "2      277055          NaN  COMMERCIAL            CA           925     West   \n",
       "3      320055     Hispanic    MEDICAID            CA           900     West   \n",
       "4      190386          NaN  COMMERCIAL            CA           934     West   \n",
       "\n",
       "             Division  patient_age patient_gender    bmi  ...  \\\n",
       "0  West South Central           39              F    NaN  ...   \n",
       "1  East North Central           55              F  35.36  ...   \n",
       "2             Pacific           59              F    NaN  ...   \n",
       "3             Pacific           59              F    NaN  ...   \n",
       "4             Pacific           71              F    NaN  ...   \n",
       "\n",
       "  Average of Apr-18 Average of May-18 Average of Jun-18 Average of Jul-18  \\\n",
       "0             52.55             74.77             79.96             81.69   \n",
       "1             49.30             72.87             77.40             77.43   \n",
       "2             68.50             70.31             78.61             87.24   \n",
       "3             63.34             63.10             67.45             75.86   \n",
       "4             59.45             60.24             64.77             69.81   \n",
       "\n",
       "  Average of Aug-18  Average of Sep-18  Average of Oct-18  Average of Nov-18  \\\n",
       "0             78.30              74.56              59.98              42.98   \n",
       "1             75.83              72.64              58.36              39.68   \n",
       "2             85.52              80.75              70.81              62.67   \n",
       "3             75.24              71.10              68.95              65.46   \n",
       "4             70.13              68.10              65.38              60.72   \n",
       "\n",
       "   Average of Dec-18  metastatic_diagnosis_period  \n",
       "0              41.18                          191  \n",
       "1              39.71                           33  \n",
       "2              55.58                          157  \n",
       "3              59.46                          146  \n",
       "4              54.08                          286  \n",
       "\n",
       "[5 rows x 152 columns]"
      ]
     },
     "execution_count": 4,
     "metadata": {},
     "output_type": "execute_result"
    }
   ],
   "source": [
    "#print train head\n",
    "train_data.head(5)"
   ]
  },
  {
   "cell_type": "code",
   "execution_count": 5,
   "id": "e1bcbd60",
   "metadata": {},
   "outputs": [
    {
     "data": {
      "text/html": [
       "<div>\n",
       "<style scoped>\n",
       "    .dataframe tbody tr th:only-of-type {\n",
       "        vertical-align: middle;\n",
       "    }\n",
       "\n",
       "    .dataframe tbody tr th {\n",
       "        vertical-align: top;\n",
       "    }\n",
       "\n",
       "    .dataframe thead th {\n",
       "        text-align: right;\n",
       "    }\n",
       "</style>\n",
       "<table border=\"1\" class=\"dataframe\">\n",
       "  <thead>\n",
       "    <tr style=\"text-align: right;\">\n",
       "      <th></th>\n",
       "      <th>patient_id</th>\n",
       "      <th>patient_race</th>\n",
       "      <th>payer_type</th>\n",
       "      <th>patient_state</th>\n",
       "      <th>patient_zip3</th>\n",
       "      <th>Region</th>\n",
       "      <th>Division</th>\n",
       "      <th>patient_age</th>\n",
       "      <th>patient_gender</th>\n",
       "      <th>bmi</th>\n",
       "      <th>...</th>\n",
       "      <th>Average of Mar-18</th>\n",
       "      <th>Average of Apr-18</th>\n",
       "      <th>Average of May-18</th>\n",
       "      <th>Average of Jun-18</th>\n",
       "      <th>Average of Jul-18</th>\n",
       "      <th>Average of Aug-18</th>\n",
       "      <th>Average of Sep-18</th>\n",
       "      <th>Average of Oct-18</th>\n",
       "      <th>Average of Nov-18</th>\n",
       "      <th>Average of Dec-18</th>\n",
       "    </tr>\n",
       "  </thead>\n",
       "  <tbody>\n",
       "    <tr>\n",
       "      <th>0</th>\n",
       "      <td>730681</td>\n",
       "      <td>NaN</td>\n",
       "      <td>COMMERCIAL</td>\n",
       "      <td>LA</td>\n",
       "      <td>713</td>\n",
       "      <td>South</td>\n",
       "      <td>West South Central</td>\n",
       "      <td>55</td>\n",
       "      <td>F</td>\n",
       "      <td>NaN</td>\n",
       "      <td>...</td>\n",
       "      <td>62.21</td>\n",
       "      <td>62.23</td>\n",
       "      <td>78.34</td>\n",
       "      <td>81.96</td>\n",
       "      <td>83.58</td>\n",
       "      <td>82.22</td>\n",
       "      <td>80.20</td>\n",
       "      <td>69.73</td>\n",
       "      <td>53.14</td>\n",
       "      <td>51.34</td>\n",
       "    </tr>\n",
       "    <tr>\n",
       "      <th>1</th>\n",
       "      <td>334212</td>\n",
       "      <td>Black</td>\n",
       "      <td>NaN</td>\n",
       "      <td>NC</td>\n",
       "      <td>283</td>\n",
       "      <td>South</td>\n",
       "      <td>South Atlantic</td>\n",
       "      <td>60</td>\n",
       "      <td>F</td>\n",
       "      <td>40.00</td>\n",
       "      <td>...</td>\n",
       "      <td>48.63</td>\n",
       "      <td>58.14</td>\n",
       "      <td>77.26</td>\n",
       "      <td>80.05</td>\n",
       "      <td>82.88</td>\n",
       "      <td>82.09</td>\n",
       "      <td>78.85</td>\n",
       "      <td>64.60</td>\n",
       "      <td>50.57</td>\n",
       "      <td>48.10</td>\n",
       "    </tr>\n",
       "    <tr>\n",
       "      <th>2</th>\n",
       "      <td>571362</td>\n",
       "      <td>NaN</td>\n",
       "      <td>COMMERCIAL</td>\n",
       "      <td>TX</td>\n",
       "      <td>794</td>\n",
       "      <td>South</td>\n",
       "      <td>West South Central</td>\n",
       "      <td>54</td>\n",
       "      <td>F</td>\n",
       "      <td>32.33</td>\n",
       "      <td>...</td>\n",
       "      <td>57.82</td>\n",
       "      <td>59.95</td>\n",
       "      <td>77.79</td>\n",
       "      <td>82.45</td>\n",
       "      <td>82.44</td>\n",
       "      <td>80.77</td>\n",
       "      <td>72.16</td>\n",
       "      <td>59.31</td>\n",
       "      <td>48.25</td>\n",
       "      <td>42.13</td>\n",
       "    </tr>\n",
       "    <tr>\n",
       "      <th>3</th>\n",
       "      <td>907331</td>\n",
       "      <td>NaN</td>\n",
       "      <td>COMMERCIAL</td>\n",
       "      <td>TN</td>\n",
       "      <td>373</td>\n",
       "      <td>South</td>\n",
       "      <td>East South Central</td>\n",
       "      <td>63</td>\n",
       "      <td>F</td>\n",
       "      <td>27.07</td>\n",
       "      <td>...</td>\n",
       "      <td>47.57</td>\n",
       "      <td>53.50</td>\n",
       "      <td>71.31</td>\n",
       "      <td>75.20</td>\n",
       "      <td>76.96</td>\n",
       "      <td>75.78</td>\n",
       "      <td>74.87</td>\n",
       "      <td>61.06</td>\n",
       "      <td>44.31</td>\n",
       "      <td>42.83</td>\n",
       "    </tr>\n",
       "    <tr>\n",
       "      <th>4</th>\n",
       "      <td>208382</td>\n",
       "      <td>Asian</td>\n",
       "      <td>NaN</td>\n",
       "      <td>WA</td>\n",
       "      <td>980</td>\n",
       "      <td>West</td>\n",
       "      <td>Pacific</td>\n",
       "      <td>62</td>\n",
       "      <td>F</td>\n",
       "      <td>NaN</td>\n",
       "      <td>...</td>\n",
       "      <td>41.02</td>\n",
       "      <td>46.25</td>\n",
       "      <td>56.92</td>\n",
       "      <td>57.88</td>\n",
       "      <td>66.16</td>\n",
       "      <td>65.21</td>\n",
       "      <td>57.52</td>\n",
       "      <td>49.53</td>\n",
       "      <td>43.75</td>\n",
       "      <td>38.33</td>\n",
       "    </tr>\n",
       "  </tbody>\n",
       "</table>\n",
       "<p>5 rows × 151 columns</p>\n",
       "</div>"
      ],
      "text/plain": [
       "   patient_id patient_race  payer_type patient_state  patient_zip3 Region  \\\n",
       "0      730681          NaN  COMMERCIAL            LA           713  South   \n",
       "1      334212        Black         NaN            NC           283  South   \n",
       "2      571362          NaN  COMMERCIAL            TX           794  South   \n",
       "3      907331          NaN  COMMERCIAL            TN           373  South   \n",
       "4      208382        Asian         NaN            WA           980   West   \n",
       "\n",
       "             Division  patient_age patient_gender    bmi  ...  \\\n",
       "0  West South Central           55              F    NaN  ...   \n",
       "1      South Atlantic           60              F  40.00  ...   \n",
       "2  West South Central           54              F  32.33  ...   \n",
       "3  East South Central           63              F  27.07  ...   \n",
       "4             Pacific           62              F    NaN  ...   \n",
       "\n",
       "  Average of Mar-18 Average of Apr-18 Average of May-18 Average of Jun-18  \\\n",
       "0             62.21             62.23             78.34             81.96   \n",
       "1             48.63             58.14             77.26             80.05   \n",
       "2             57.82             59.95             77.79             82.45   \n",
       "3             47.57             53.50             71.31             75.20   \n",
       "4             41.02             46.25             56.92             57.88   \n",
       "\n",
       "  Average of Jul-18  Average of Aug-18  Average of Sep-18  Average of Oct-18  \\\n",
       "0             83.58              82.22              80.20              69.73   \n",
       "1             82.88              82.09              78.85              64.60   \n",
       "2             82.44              80.77              72.16              59.31   \n",
       "3             76.96              75.78              74.87              61.06   \n",
       "4             66.16              65.21              57.52              49.53   \n",
       "\n",
       "   Average of Nov-18  Average of Dec-18  \n",
       "0              53.14              51.34  \n",
       "1              50.57              48.10  \n",
       "2              48.25              42.13  \n",
       "3              44.31              42.83  \n",
       "4              43.75              38.33  \n",
       "\n",
       "[5 rows x 151 columns]"
      ]
     },
     "execution_count": 5,
     "metadata": {},
     "output_type": "execute_result"
    }
   ],
   "source": [
    "#print test head\n",
    "test_data.head(5)"
   ]
  },
  {
   "cell_type": "code",
   "execution_count": 6,
   "id": "0879f690",
   "metadata": {},
   "outputs": [
    {
     "data": {
      "text/html": [
       "<div>\n",
       "<style scoped>\n",
       "    .dataframe tbody tr th:only-of-type {\n",
       "        vertical-align: middle;\n",
       "    }\n",
       "\n",
       "    .dataframe tbody tr th {\n",
       "        vertical-align: top;\n",
       "    }\n",
       "\n",
       "    .dataframe thead th {\n",
       "        text-align: right;\n",
       "    }\n",
       "</style>\n",
       "<table border=\"1\" class=\"dataframe\">\n",
       "  <thead>\n",
       "    <tr style=\"text-align: right;\">\n",
       "      <th></th>\n",
       "      <th>patient_id</th>\n",
       "      <th>metastatic_diagnosis_period</th>\n",
       "    </tr>\n",
       "  </thead>\n",
       "  <tbody>\n",
       "    <tr>\n",
       "      <th>0</th>\n",
       "      <td>730681</td>\n",
       "      <td>100</td>\n",
       "    </tr>\n",
       "    <tr>\n",
       "      <th>1</th>\n",
       "      <td>334212</td>\n",
       "      <td>0</td>\n",
       "    </tr>\n",
       "    <tr>\n",
       "      <th>2</th>\n",
       "      <td>571362</td>\n",
       "      <td>100</td>\n",
       "    </tr>\n",
       "    <tr>\n",
       "      <th>3</th>\n",
       "      <td>907331</td>\n",
       "      <td>100</td>\n",
       "    </tr>\n",
       "    <tr>\n",
       "      <th>4</th>\n",
       "      <td>208382</td>\n",
       "      <td>100</td>\n",
       "    </tr>\n",
       "  </tbody>\n",
       "</table>\n",
       "</div>"
      ],
      "text/plain": [
       "   patient_id  metastatic_diagnosis_period\n",
       "0      730681                          100\n",
       "1      334212                            0\n",
       "2      571362                          100\n",
       "3      907331                          100\n",
       "4      208382                          100"
      ]
     },
     "execution_count": 6,
     "metadata": {},
     "output_type": "execute_result"
    }
   ],
   "source": [
    "#print solution head\n",
    "solution_data.head(5)"
   ]
  },
  {
   "cell_type": "code",
   "execution_count": 7,
   "id": "b9250d61",
   "metadata": {},
   "outputs": [],
   "source": [
    "## Data pre-processing "
   ]
  },
  {
   "cell_type": "code",
   "execution_count": 8,
   "id": "e1cad12b",
   "metadata": {},
   "outputs": [
    {
     "data": {
      "image/png": "[encoded data removed]",
      "text/plain": [
       "<Figure size 1000x300 with 1 Axes>"
      ]
     },
     "metadata": {},
     "output_type": "display_data"
    }
   ],
   "source": [
    "# missing values\n",
    "plt.figure(figsize = (10,3))\n",
    "missing_values =  train_data.isna().sum().sort_values(ascending=False)\n",
    "missing_values.head(10).plot(kind='barh',color='green')\n",
    "plt.title('High missing Values')\n",
    "plt.xlabel('Count')\n",
    "plt.xticks(rotation = 45)\n",
    "plt.ylabel('Missing values')\n",
    "plt.show()"
   ]
  },
  {
   "cell_type": "code",
   "execution_count": 9,
   "id": "fd370b6c",
   "metadata": {},
   "outputs": [],
   "source": [
    "# Drop columns from above\n",
    "train_data = train_data.drop(['metastatic_first_novel_treatment_type','metastatic_first_novel_treatment'], axis=1)\n",
    "test_data = test_data.drop(['metastatic_first_novel_treatment_type','metastatic_first_novel_treatment'], axis=1)"
   ]
  },
  {
   "cell_type": "code",
   "execution_count": 10,
   "id": "0d066dea",
   "metadata": {},
   "outputs": [],
   "source": [
    "# Categorize Age\n",
    "train_data['patient_age'] = pd.cut(train_data['patient_age'], right=False, bins=[0,30,40,50,60,70,80,90,np.inf], labels=[0,1,2,3,4,5,6,7])"
   ]
  },
  {
   "cell_type": "code",
   "execution_count": 11,
   "id": "5dad1fdc",
   "metadata": {},
   "outputs": [
    {
     "data": {
      "text/plain": [
       "0        1\n",
       "1        3\n",
       "2        3\n",
       "3        3\n",
       "4        5\n",
       "        ..\n",
       "13168    3\n",
       "13169    5\n",
       "13170    0\n",
       "13171    3\n",
       "13172    4\n",
       "Name: patient_age, Length: 13173, dtype: category\n",
       "Categories (8, int64): [0 < 1 < 2 < 3 < 4 < 5 < 6 < 7]"
      ]
     },
     "execution_count": 11,
     "metadata": {},
     "output_type": "execute_result"
    }
   ],
   "source": [
    "train_data['patient_age']"
   ]
  },
  {
   "cell_type": "code",
   "execution_count": 12,
   "id": "d0b92b0e",
   "metadata": {},
   "outputs": [],
   "source": [
    "# Filling nulls by deriving values from other features\n",
    "def replace_race(df):\n",
    "    max_race_zip = df.groupby('patient_zip3')['patient_race'].agg(lambda x:x.mode().iloc[0] if not x.mode().empty else None)\n",
    "    max_race_state = df.groupby('patient_state')['patient_race'].agg(lambda x:x.mode().iloc[0] if not x.mode().empty else None) \n",
    "    \n",
    "    df['patient_race'] = df.apply(lambda row: max_race_zip[row['patient_zip3']] if pd.isna(row['patient_race']) else row['patient_race'], axis=1)\n",
    "    df['patient_race'] = df.apply(lambda row: max_race_state[row['patient_state']] if pd.isna(row['patient_race']) else row['patient_race'], axis=1)\n",
    "    \n",
    "    return df"
   ]
  },
  {
   "cell_type": "code",
   "execution_count": 13,
   "id": "435962f1",
   "metadata": {},
   "outputs": [
    {
     "name": "stdout",
     "output_type": "stream",
     "text": [
      "0\n"
     ]
    }
   ],
   "source": [
    "print(replace_race(train_data)['patient_race'].isna().sum())"
   ]
  },
  {
   "cell_type": "code",
   "execution_count": 14,
   "id": "6941749a",
   "metadata": {},
   "outputs": [],
   "source": [
    "# Filling nulls by deriving values from other features\n",
    "def replace_payer(df):\n",
    "    max_race_zip = df.groupby('patient_zip3')['payer_type'].agg(lambda x:x.mode().iloc[0] if not x.mode().empty else None)\n",
    "    max_race_state = df.groupby('patient_state')['payer_type'].agg(lambda x:x.mode().iloc[0] if not x.mode().empty else None) \n",
    "    \n",
    "    df['payer_type'] = df.apply(lambda row: max_race_zip[row['patient_zip3']] if pd.isna(row['payer_type']) else row['payer_type'], axis=1)\n",
    "    df['payer_type'] = df.apply(lambda row: max_race_state[row['patient_state']] if pd.isna(row['payer_type']) else row['payer_type'], axis=1)\n",
    "    \n",
    "    return df"
   ]
  },
  {
   "cell_type": "code",
   "execution_count": 15,
   "id": "7cfef159",
   "metadata": {},
   "outputs": [
    {
     "name": "stdout",
     "output_type": "stream",
     "text": [
      "0\n"
     ]
    }
   ],
   "source": [
    "print(replace_payer(train_data)['payer_type'].isna().sum())"
   ]
  },
  {
   "cell_type": "code",
   "execution_count": 16,
   "id": "b13c029c",
   "metadata": {},
   "outputs": [],
   "source": [
    "train_data = replace_race(train_data)"
   ]
  },
  {
   "cell_type": "code",
   "execution_count": 17,
   "id": "edd89b03",
   "metadata": {},
   "outputs": [],
   "source": [
    "train_data = replace_payer(train_data)"
   ]
  },
  {
   "cell_type": "code",
   "execution_count": 18,
   "id": "4f7af0ae",
   "metadata": {},
   "outputs": [],
   "source": [
    "# drop nan values\n",
    "train_data = train_data.dropna()"
   ]
  },
  {
   "cell_type": "code",
   "execution_count": 19,
   "id": "f303f2d1",
   "metadata": {},
   "outputs": [],
   "source": [
    "## Visualization"
   ]
  },
  {
   "cell_type": "code",
   "execution_count": 20,
   "id": "76368940",
   "metadata": {},
   "outputs": [
    {
     "data": {
      "image/png": "[encoded data removed]",
      "text/plain": [
       "<Figure size 1000x500 with 1 Axes>"
      ]
     },
     "metadata": {},
     "output_type": "display_data"
    }
   ],
   "source": [
    "#compare race\n",
    "plt.figure(figsize = (10,5))\n",
    "train_data['patient_race'].value_counts().plot(kind='bar', color='blue')\n",
    "plt.title('Count of patient race', fontsize=18)\n",
    "plt.xlabel('Race', fontsize=16)\n",
    "plt.ylabel('Count', fontsize=16)\n",
    "plt.xticks(rotation=0)\n",
    "plt.show()"
   ]
  },
  {
   "cell_type": "code",
   "execution_count": 21,
   "id": "f775f956",
   "metadata": {},
   "outputs": [
    {
     "data": {
      "image/png": "[encoded data removed]",
      "text/plain": [
       "<Figure size 1000x800 with 2 Axes>"
      ]
     },
     "metadata": {},
     "output_type": "display_data"
    }
   ],
   "source": [
    "corr_matrix = train_data[['race_white','race_black','race_asian','race_other','race_native','race_pacific','metastatic_diagnosis_period']].corr()\n",
    "\n",
    "plt.figure(figsize=(10,8))\n",
    "sns.heatmap(corr_matrix, annot=True, cmap='inferno')\n",
    "plt.title('Correlation of Race with prediction column')\n",
    "plt.show()"
   ]
  },
  {
   "cell_type": "code",
   "execution_count": 22,
   "id": "e891c731",
   "metadata": {},
   "outputs": [
    {
     "data": {
      "image/png": "[encoded data removed]",
      "text/plain": [
       "<Figure size 1000x800 with 2 Axes>"
      ]
     },
     "metadata": {},
     "output_type": "display_data"
    }
   ],
   "source": [
    "# Other correlation\n",
    "\n",
    "corr_matrix = train_data[['patient_age','bmi','density','income_household_median','metastatic_diagnosis_period']].corr()\n",
    "plt.figure(figsize=(10,8))\n",
    "sns.heatmap(corr_matrix, annot=True, cmap='inferno')\n",
    "plt.title('Correlation of socio-economic params with prediction column')\n",
    "plt.show()"
   ]
  },
  {
   "cell_type": "code",
   "execution_count": 23,
   "id": "65d92d15",
   "metadata": {},
   "outputs": [],
   "source": [
    "## Being selective"
   ]
  },
  {
   "cell_type": "code",
   "execution_count": 24,
   "id": "5ab49dd4",
   "metadata": {},
   "outputs": [],
   "source": [
    "# dropping certain columns that are not needed & separating the data\n",
    "X = train_data.drop(['patient_id','patient_race','bmi','breast_cancer_diagnosis_desc','metastatic_diagnosis_period'],axis=1)\n",
    "y = train_data['metastatic_diagnosis_period']"
   ]
  },
  {
   "cell_type": "code",
   "execution_count": 25,
   "id": "4abc13d3",
   "metadata": {},
   "outputs": [
    {
     "name": "stdout",
     "output_type": "stream",
     "text": [
      "(3978, 145) (3978,)\n"
     ]
    }
   ],
   "source": [
    "#print shape\n",
    "print(X.shape, y.shape)"
   ]
  },
  {
   "cell_type": "code",
   "execution_count": 26,
   "id": "5e391327",
   "metadata": {},
   "outputs": [
    {
     "data": {
      "text/html": [
       "<div>\n",
       "<style scoped>\n",
       "    .dataframe tbody tr th:only-of-type {\n",
       "        vertical-align: middle;\n",
       "    }\n",
       "\n",
       "    .dataframe tbody tr th {\n",
       "        vertical-align: top;\n",
       "    }\n",
       "\n",
       "    .dataframe thead th {\n",
       "        text-align: right;\n",
       "    }\n",
       "</style>\n",
       "<table border=\"1\" class=\"dataframe\">\n",
       "  <thead>\n",
       "    <tr style=\"text-align: right;\">\n",
       "      <th></th>\n",
       "      <th>payer_type</th>\n",
       "      <th>patient_state</th>\n",
       "      <th>patient_zip3</th>\n",
       "      <th>Region</th>\n",
       "      <th>Division</th>\n",
       "      <th>patient_age</th>\n",
       "      <th>patient_gender</th>\n",
       "      <th>breast_cancer_diagnosis_code</th>\n",
       "      <th>metastatic_cancer_diagnosis_code</th>\n",
       "      <th>population</th>\n",
       "      <th>...</th>\n",
       "      <th>Average of Mar-18</th>\n",
       "      <th>Average of Apr-18</th>\n",
       "      <th>Average of May-18</th>\n",
       "      <th>Average of Jun-18</th>\n",
       "      <th>Average of Jul-18</th>\n",
       "      <th>Average of Aug-18</th>\n",
       "      <th>Average of Sep-18</th>\n",
       "      <th>Average of Oct-18</th>\n",
       "      <th>Average of Nov-18</th>\n",
       "      <th>Average of Dec-18</th>\n",
       "    </tr>\n",
       "  </thead>\n",
       "  <tbody>\n",
       "    <tr>\n",
       "      <th>1</th>\n",
       "      <td>COMMERCIAL</td>\n",
       "      <td>IL</td>\n",
       "      <td>629</td>\n",
       "      <td>Midwest</td>\n",
       "      <td>East North Central</td>\n",
       "      <td>3</td>\n",
       "      <td>F</td>\n",
       "      <td>C50412</td>\n",
       "      <td>C773</td>\n",
       "      <td>2745.39</td>\n",
       "      <td>...</td>\n",
       "      <td>44.18</td>\n",
       "      <td>49.30</td>\n",
       "      <td>72.87</td>\n",
       "      <td>77.40</td>\n",
       "      <td>77.43</td>\n",
       "      <td>75.83</td>\n",
       "      <td>72.64</td>\n",
       "      <td>58.36</td>\n",
       "      <td>39.68</td>\n",
       "      <td>39.71</td>\n",
       "    </tr>\n",
       "    <tr>\n",
       "      <th>6</th>\n",
       "      <td>MEDICARE ADVANTAGE</td>\n",
       "      <td>OH</td>\n",
       "      <td>448</td>\n",
       "      <td>Midwest</td>\n",
       "      <td>East North Central</td>\n",
       "      <td>3</td>\n",
       "      <td>F</td>\n",
       "      <td>C50412</td>\n",
       "      <td>C799</td>\n",
       "      <td>5890.57</td>\n",
       "      <td>...</td>\n",
       "      <td>34.44</td>\n",
       "      <td>42.62</td>\n",
       "      <td>65.91</td>\n",
       "      <td>71.26</td>\n",
       "      <td>74.03</td>\n",
       "      <td>73.94</td>\n",
       "      <td>69.12</td>\n",
       "      <td>53.50</td>\n",
       "      <td>36.43</td>\n",
       "      <td>34.10</td>\n",
       "    </tr>\n",
       "    <tr>\n",
       "      <th>7</th>\n",
       "      <td>COMMERCIAL</td>\n",
       "      <td>DE</td>\n",
       "      <td>198</td>\n",
       "      <td>South</td>\n",
       "      <td>South Atlantic</td>\n",
       "      <td>3</td>\n",
       "      <td>F</td>\n",
       "      <td>C50411</td>\n",
       "      <td>C792</td>\n",
       "      <td>22036.40</td>\n",
       "      <td>...</td>\n",
       "      <td>37.59</td>\n",
       "      <td>48.41</td>\n",
       "      <td>65.17</td>\n",
       "      <td>70.63</td>\n",
       "      <td>75.82</td>\n",
       "      <td>76.17</td>\n",
       "      <td>70.00</td>\n",
       "      <td>56.65</td>\n",
       "      <td>40.90</td>\n",
       "      <td>37.68</td>\n",
       "    </tr>\n",
       "    <tr>\n",
       "      <th>11</th>\n",
       "      <td>MEDICARE ADVANTAGE</td>\n",
       "      <td>OH</td>\n",
       "      <td>453</td>\n",
       "      <td>Midwest</td>\n",
       "      <td>East North Central</td>\n",
       "      <td>5</td>\n",
       "      <td>F</td>\n",
       "      <td>C50811</td>\n",
       "      <td>C773</td>\n",
       "      <td>6468.25</td>\n",
       "      <td>...</td>\n",
       "      <td>36.81</td>\n",
       "      <td>45.64</td>\n",
       "      <td>69.74</td>\n",
       "      <td>72.79</td>\n",
       "      <td>75.69</td>\n",
       "      <td>74.03</td>\n",
       "      <td>70.33</td>\n",
       "      <td>55.01</td>\n",
       "      <td>36.72</td>\n",
       "      <td>34.78</td>\n",
       "    </tr>\n",
       "    <tr>\n",
       "      <th>13</th>\n",
       "      <td>COMMERCIAL</td>\n",
       "      <td>MI</td>\n",
       "      <td>481</td>\n",
       "      <td>Midwest</td>\n",
       "      <td>East North Central</td>\n",
       "      <td>2</td>\n",
       "      <td>F</td>\n",
       "      <td>1749</td>\n",
       "      <td>C773</td>\n",
       "      <td>23266.06</td>\n",
       "      <td>...</td>\n",
       "      <td>32.92</td>\n",
       "      <td>39.93</td>\n",
       "      <td>63.56</td>\n",
       "      <td>68.68</td>\n",
       "      <td>72.13</td>\n",
       "      <td>72.55</td>\n",
       "      <td>66.17</td>\n",
       "      <td>49.79</td>\n",
       "      <td>34.16</td>\n",
       "      <td>32.28</td>\n",
       "    </tr>\n",
       "  </tbody>\n",
       "</table>\n",
       "<p>5 rows × 145 columns</p>\n",
       "</div>"
      ],
      "text/plain": [
       "            payer_type patient_state  patient_zip3   Region  \\\n",
       "1           COMMERCIAL            IL           629  Midwest   \n",
       "6   MEDICARE ADVANTAGE            OH           448  Midwest   \n",
       "7           COMMERCIAL            DE           198    South   \n",
       "11  MEDICARE ADVANTAGE            OH           453  Midwest   \n",
       "13          COMMERCIAL            MI           481  Midwest   \n",
       "\n",
       "              Division patient_age patient_gender  \\\n",
       "1   East North Central           3              F   \n",
       "6   East North Central           3              F   \n",
       "7       South Atlantic           3              F   \n",
       "11  East North Central           5              F   \n",
       "13  East North Central           2              F   \n",
       "\n",
       "   breast_cancer_diagnosis_code metastatic_cancer_diagnosis_code  population  \\\n",
       "1                        C50412                             C773     2745.39   \n",
       "6                        C50412                             C799     5890.57   \n",
       "7                        C50411                             C792    22036.40   \n",
       "11                       C50811                             C773     6468.25   \n",
       "13                         1749                             C773    23266.06   \n",
       "\n",
       "    ...  Average of Mar-18  Average of Apr-18  Average of May-18  \\\n",
       "1   ...              44.18              49.30              72.87   \n",
       "6   ...              34.44              42.62              65.91   \n",
       "7   ...              37.59              48.41              65.17   \n",
       "11  ...              36.81              45.64              69.74   \n",
       "13  ...              32.92              39.93              63.56   \n",
       "\n",
       "    Average of Jun-18  Average of Jul-18  Average of Aug-18  \\\n",
       "1               77.40              77.43              75.83   \n",
       "6               71.26              74.03              73.94   \n",
       "7               70.63              75.82              76.17   \n",
       "11              72.79              75.69              74.03   \n",
       "13              68.68              72.13              72.55   \n",
       "\n",
       "    Average of Sep-18  Average of Oct-18  Average of Nov-18  Average of Dec-18  \n",
       "1               72.64              58.36              39.68              39.71  \n",
       "6               69.12              53.50              36.43              34.10  \n",
       "7               70.00              56.65              40.90              37.68  \n",
       "11              70.33              55.01              36.72              34.78  \n",
       "13              66.17              49.79              34.16              32.28  \n",
       "\n",
       "[5 rows x 145 columns]"
      ]
     },
     "execution_count": 26,
     "metadata": {},
     "output_type": "execute_result"
    }
   ],
   "source": [
    "X.head(5)"
   ]
  },
  {
   "cell_type": "code",
   "execution_count": 27,
   "id": "26b1b32a",
   "metadata": {},
   "outputs": [
    {
     "data": {
      "text/plain": [
       "1      33\n",
       "6      59\n",
       "7     316\n",
       "11     27\n",
       "13    266\n",
       "Name: metastatic_diagnosis_period, dtype: int64"
      ]
     },
     "execution_count": 27,
     "metadata": {},
     "output_type": "execute_result"
    }
   ],
   "source": [
    "y.head(5)"
   ]
  },
  {
   "cell_type": "code",
   "execution_count": 28,
   "id": "5d79b3de",
   "metadata": {},
   "outputs": [],
   "source": [
    "numerical_cols = X.select_dtypes(exclude=['object']).columns\n",
    "categorical_cols = X.select_dtypes(include=['object']).columns"
   ]
  },
  {
   "cell_type": "code",
   "execution_count": 29,
   "id": "fccd109d",
   "metadata": {},
   "outputs": [
    {
     "data": {
      "text/plain": [
       "Index(['payer_type', 'patient_state', 'Region', 'Division', 'patient_gender',\n",
       "       'breast_cancer_diagnosis_code', 'metastatic_cancer_diagnosis_code'],\n",
       "      dtype='object')"
      ]
     },
     "execution_count": 29,
     "metadata": {},
     "output_type": "execute_result"
    }
   ],
   "source": [
    "categorical_cols"
   ]
  },
  {
   "cell_type": "code",
   "execution_count": 30,
   "id": "4971e5ba",
   "metadata": {},
   "outputs": [],
   "source": [
    "## Handle Categorical Vals"
   ]
  },
  {
   "cell_type": "code",
   "execution_count": 31,
   "id": "a80e6765",
   "metadata": {},
   "outputs": [],
   "source": [
    "# converting categorical feature to numerical feature\n",
    "le_payer_type = LabelEncoder()\n",
    "le_patient_state = LabelEncoder()\n",
    "le_patient_zip3 = LabelEncoder()\n",
    "le_region = LabelEncoder()\n",
    "le_division = LabelEncoder()\n",
    "le_breast_cancer = LabelEncoder()\n",
    "le_metastatic_cancer = LabelEncoder()\n",
    "le_patient_gender = LabelEncoder()\n",
    "\n",
    "X['payer_type'] = le_payer_type.fit_transform(X['payer_type'])\n",
    "X['patient_state'] = le_payer_type.fit_transform(X['patient_state'])\n",
    "X['patient_zip3'] = le_payer_type.fit_transform(X['patient_zip3'])\n",
    "X['Region'] = le_payer_type.fit_transform(X['Region'])\n",
    "X['Division'] = le_payer_type.fit_transform(X['Division'])\n",
    "X['breast_cancer_diagnosis_code'] = le_payer_type.fit_transform(X['breast_cancer_diagnosis_code'])\n",
    "X['metastatic_cancer_diagnosis_code'] = le_payer_type.fit_transform(X['metastatic_cancer_diagnosis_code'])\n",
    "X['patient_gender'] = le_payer_type.fit_transform(X['patient_gender'])"
   ]
  },
  {
   "cell_type": "code",
   "execution_count": 32,
   "id": "0d28b02b",
   "metadata": {},
   "outputs": [
    {
     "data": {
      "text/html": [
       "<div>\n",
       "<style scoped>\n",
       "    .dataframe tbody tr th:only-of-type {\n",
       "        vertical-align: middle;\n",
       "    }\n",
       "\n",
       "    .dataframe tbody tr th {\n",
       "        vertical-align: top;\n",
       "    }\n",
       "\n",
       "    .dataframe thead th {\n",
       "        text-align: right;\n",
       "    }\n",
       "</style>\n",
       "<table border=\"1\" class=\"dataframe\">\n",
       "  <thead>\n",
       "    <tr style=\"text-align: right;\">\n",
       "      <th></th>\n",
       "      <th>payer_type</th>\n",
       "      <th>patient_state</th>\n",
       "      <th>patient_zip3</th>\n",
       "      <th>Region</th>\n",
       "      <th>Division</th>\n",
       "      <th>patient_age</th>\n",
       "      <th>patient_gender</th>\n",
       "      <th>breast_cancer_diagnosis_code</th>\n",
       "      <th>metastatic_cancer_diagnosis_code</th>\n",
       "      <th>population</th>\n",
       "      <th>...</th>\n",
       "      <th>Average of Mar-18</th>\n",
       "      <th>Average of Apr-18</th>\n",
       "      <th>Average of May-18</th>\n",
       "      <th>Average of Jun-18</th>\n",
       "      <th>Average of Jul-18</th>\n",
       "      <th>Average of Aug-18</th>\n",
       "      <th>Average of Sep-18</th>\n",
       "      <th>Average of Oct-18</th>\n",
       "      <th>Average of Nov-18</th>\n",
       "      <th>Average of Dec-18</th>\n",
       "    </tr>\n",
       "  </thead>\n",
       "  <tbody>\n",
       "    <tr>\n",
       "      <th>1</th>\n",
       "      <td>0</td>\n",
       "      <td>13</td>\n",
       "      <td>358</td>\n",
       "      <td>0</td>\n",
       "      <td>0</td>\n",
       "      <td>3</td>\n",
       "      <td>0</td>\n",
       "      <td>25</td>\n",
       "      <td>3</td>\n",
       "      <td>2745.39</td>\n",
       "      <td>...</td>\n",
       "      <td>44.18</td>\n",
       "      <td>49.30</td>\n",
       "      <td>72.87</td>\n",
       "      <td>77.40</td>\n",
       "      <td>77.43</td>\n",
       "      <td>75.83</td>\n",
       "      <td>72.64</td>\n",
       "      <td>58.36</td>\n",
       "      <td>39.68</td>\n",
       "      <td>39.71</td>\n",
       "    </tr>\n",
       "    <tr>\n",
       "      <th>6</th>\n",
       "      <td>2</td>\n",
       "      <td>30</td>\n",
       "      <td>248</td>\n",
       "      <td>0</td>\n",
       "      <td>0</td>\n",
       "      <td>3</td>\n",
       "      <td>0</td>\n",
       "      <td>25</td>\n",
       "      <td>36</td>\n",
       "      <td>5890.57</td>\n",
       "      <td>...</td>\n",
       "      <td>34.44</td>\n",
       "      <td>42.62</td>\n",
       "      <td>65.91</td>\n",
       "      <td>71.26</td>\n",
       "      <td>74.03</td>\n",
       "      <td>73.94</td>\n",
       "      <td>69.12</td>\n",
       "      <td>53.50</td>\n",
       "      <td>36.43</td>\n",
       "      <td>34.10</td>\n",
       "    </tr>\n",
       "    <tr>\n",
       "      <th>7</th>\n",
       "      <td>0</td>\n",
       "      <td>7</td>\n",
       "      <td>72</td>\n",
       "      <td>2</td>\n",
       "      <td>5</td>\n",
       "      <td>3</td>\n",
       "      <td>0</td>\n",
       "      <td>24</td>\n",
       "      <td>21</td>\n",
       "      <td>22036.40</td>\n",
       "      <td>...</td>\n",
       "      <td>37.59</td>\n",
       "      <td>48.41</td>\n",
       "      <td>65.17</td>\n",
       "      <td>70.63</td>\n",
       "      <td>75.82</td>\n",
       "      <td>76.17</td>\n",
       "      <td>70.00</td>\n",
       "      <td>56.65</td>\n",
       "      <td>40.90</td>\n",
       "      <td>37.68</td>\n",
       "    </tr>\n",
       "    <tr>\n",
       "      <th>11</th>\n",
       "      <td>2</td>\n",
       "      <td>30</td>\n",
       "      <td>253</td>\n",
       "      <td>0</td>\n",
       "      <td>0</td>\n",
       "      <td>5</td>\n",
       "      <td>0</td>\n",
       "      <td>33</td>\n",
       "      <td>3</td>\n",
       "      <td>6468.25</td>\n",
       "      <td>...</td>\n",
       "      <td>36.81</td>\n",
       "      <td>45.64</td>\n",
       "      <td>69.74</td>\n",
       "      <td>72.79</td>\n",
       "      <td>75.69</td>\n",
       "      <td>74.03</td>\n",
       "      <td>70.33</td>\n",
       "      <td>55.01</td>\n",
       "      <td>36.72</td>\n",
       "      <td>34.78</td>\n",
       "    </tr>\n",
       "    <tr>\n",
       "      <th>13</th>\n",
       "      <td>0</td>\n",
       "      <td>19</td>\n",
       "      <td>275</td>\n",
       "      <td>0</td>\n",
       "      <td>0</td>\n",
       "      <td>2</td>\n",
       "      <td>0</td>\n",
       "      <td>7</td>\n",
       "      <td>3</td>\n",
       "      <td>23266.06</td>\n",
       "      <td>...</td>\n",
       "      <td>32.92</td>\n",
       "      <td>39.93</td>\n",
       "      <td>63.56</td>\n",
       "      <td>68.68</td>\n",
       "      <td>72.13</td>\n",
       "      <td>72.55</td>\n",
       "      <td>66.17</td>\n",
       "      <td>49.79</td>\n",
       "      <td>34.16</td>\n",
       "      <td>32.28</td>\n",
       "    </tr>\n",
       "  </tbody>\n",
       "</table>\n",
       "<p>5 rows × 145 columns</p>\n",
       "</div>"
      ],
      "text/plain": [
       "    payer_type  patient_state  patient_zip3  Region  Division patient_age  \\\n",
       "1            0             13           358       0         0           3   \n",
       "6            2             30           248       0         0           3   \n",
       "7            0              7            72       2         5           3   \n",
       "11           2             30           253       0         0           5   \n",
       "13           0             19           275       0         0           2   \n",
       "\n",
       "    patient_gender  breast_cancer_diagnosis_code  \\\n",
       "1                0                            25   \n",
       "6                0                            25   \n",
       "7                0                            24   \n",
       "11               0                            33   \n",
       "13               0                             7   \n",
       "\n",
       "    metastatic_cancer_diagnosis_code  population  ...  Average of Mar-18  \\\n",
       "1                                  3     2745.39  ...              44.18   \n",
       "6                                 36     5890.57  ...              34.44   \n",
       "7                                 21    22036.40  ...              37.59   \n",
       "11                                 3     6468.25  ...              36.81   \n",
       "13                                 3    23266.06  ...              32.92   \n",
       "\n",
       "    Average of Apr-18  Average of May-18  Average of Jun-18  \\\n",
       "1               49.30              72.87              77.40   \n",
       "6               42.62              65.91              71.26   \n",
       "7               48.41              65.17              70.63   \n",
       "11              45.64              69.74              72.79   \n",
       "13              39.93              63.56              68.68   \n",
       "\n",
       "    Average of Jul-18  Average of Aug-18  Average of Sep-18  \\\n",
       "1               77.43              75.83              72.64   \n",
       "6               74.03              73.94              69.12   \n",
       "7               75.82              76.17              70.00   \n",
       "11              75.69              74.03              70.33   \n",
       "13              72.13              72.55              66.17   \n",
       "\n",
       "    Average of Oct-18  Average of Nov-18  Average of Dec-18  \n",
       "1               58.36              39.68              39.71  \n",
       "6               53.50              36.43              34.10  \n",
       "7               56.65              40.90              37.68  \n",
       "11              55.01              36.72              34.78  \n",
       "13              49.79              34.16              32.28  \n",
       "\n",
       "[5 rows x 145 columns]"
      ]
     },
     "execution_count": 32,
     "metadata": {},
     "output_type": "execute_result"
    }
   ],
   "source": [
    "X.head(5)"
   ]
  },
  {
   "cell_type": "code",
   "execution_count": 33,
   "id": "b9e28a5c",
   "metadata": {},
   "outputs": [
    {
     "name": "stdout",
     "output_type": "stream",
     "text": [
      "train size :  (3182, 145)\n",
      "test size :  (796, 145)\n"
     ]
    }
   ],
   "source": [
    "# split data into train & test\n",
    "X_train, X_test, y_train, y_test = train_test_split(X, y, test_size=0.2, random_state=42, shuffle=True)\n",
    "print(\"train size : \", X_train.shape)\n",
    "print(\"test size : \", X_test.shape)"
   ]
  },
  {
   "cell_type": "code",
   "execution_count": 34,
   "id": "ac10ff62",
   "metadata": {},
   "outputs": [],
   "source": [
    "# Standardizing Data\n",
    "sc = StandardScaler()\n",
    "X_train_scaled = sc.fit_transform(X_train)\n",
    "X_test_scaled = sc.transform(X_test)"
   ]
  },
  {
   "cell_type": "code",
   "execution_count": 35,
   "id": "9f81c1f8",
   "metadata": {},
   "outputs": [
    {
     "data": {
      "text/html": [
       "<style>#sk-container-id-1 {color: black;background-color: white;}#sk-container-id-1 pre{padding: 0;}#sk-container-id-1 div.sk-toggleable {background-color: white;}#sk-container-id-1 label.sk-toggleable__label {cursor: pointer;display: block;width: 100%;margin-bottom: 0;padding: 0.3em;box-sizing: border-box;text-align: center;}#sk-container-id-1 label.sk-toggleable__label-arrow:before {content: \"▸\";float: left;margin-right: 0.25em;color: #696969;}#sk-container-id-1 label.sk-toggleable__label-arrow:hover:before {color: black;}#sk-container-id-1 div.sk-estimator:hover label.sk-toggleable__label-arrow:before {color: black;}#sk-container-id-1 div.sk-toggleable__content {max-height: 0;max-width: 0;overflow: hidden;text-align: left;background-color: #f0f8ff;}#sk-container-id-1 div.sk-toggleable__content pre {margin: 0.2em;color: black;border-radius: 0.25em;background-color: #f0f8ff;}#sk-container-id-1 input.sk-toggleable__control:checked~div.sk-toggleable__content {max-height: 200px;max-width: 100%;overflow: auto;}#sk-container-id-1 input.sk-toggleable__control:checked~label.sk-toggleable__label-arrow:before {content: \"▾\";}#sk-container-id-1 div.sk-estimator input.sk-toggleable__control:checked~label.sk-toggleable__label {background-color: #d4ebff;}#sk-container-id-1 div.sk-label input.sk-toggleable__control:checked~label.sk-toggleable__label {background-color: #d4ebff;}#sk-container-id-1 input.sk-hidden--visually {border: 0;clip: rect(1px 1px 1px 1px);clip: rect(1px, 1px, 1px, 1px);height: 1px;margin: -1px;overflow: hidden;padding: 0;position: absolute;width: 1px;}#sk-container-id-1 div.sk-estimator {font-family: monospace;background-color: #f0f8ff;border: 1px dotted black;border-radius: 0.25em;box-sizing: border-box;margin-bottom: 0.5em;}#sk-container-id-1 div.sk-estimator:hover {background-color: #d4ebff;}#sk-container-id-1 div.sk-parallel-item::after {content: \"\";width: 100%;border-bottom: 1px solid gray;flex-grow: 1;}#sk-container-id-1 div.sk-label:hover label.sk-toggleable__label {background-color: #d4ebff;}#sk-container-id-1 div.sk-serial::before {content: \"\";position: absolute;border-left: 1px solid gray;box-sizing: border-box;top: 0;bottom: 0;left: 50%;z-index: 0;}#sk-container-id-1 div.sk-serial {display: flex;flex-direction: column;align-items: center;background-color: white;padding-right: 0.2em;padding-left: 0.2em;position: relative;}#sk-container-id-1 div.sk-item {position: relative;z-index: 1;}#sk-container-id-1 div.sk-parallel {display: flex;align-items: stretch;justify-content: center;background-color: white;position: relative;}#sk-container-id-1 div.sk-item::before, #sk-container-id-1 div.sk-parallel-item::before {content: \"\";position: absolute;border-left: 1px solid gray;box-sizing: border-box;top: 0;bottom: 0;left: 50%;z-index: -1;}#sk-container-id-1 div.sk-parallel-item {display: flex;flex-direction: column;z-index: 1;position: relative;background-color: white;}#sk-container-id-1 div.sk-parallel-item:first-child::after {align-self: flex-end;width: 50%;}#sk-container-id-1 div.sk-parallel-item:last-child::after {align-self: flex-start;width: 50%;}#sk-container-id-1 div.sk-parallel-item:only-child::after {width: 0;}#sk-container-id-1 div.sk-dashed-wrapped {border: 1px dashed gray;margin: 0 0.4em 0.5em 0.4em;box-sizing: border-box;padding-bottom: 0.4em;background-color: white;}#sk-container-id-1 div.sk-label label {font-family: monospace;font-weight: bold;display: inline-block;line-height: 1.2em;}#sk-container-id-1 div.sk-label-container {text-align: center;}#sk-container-id-1 div.sk-container {/* jupyter's `normalize.less` sets `[hidden] { display: none; }` but bootstrap.min.css set `[hidden] { display: none !important; }` so we also need the `!important` here to be able to override the default hidden behavior on the sphinx rendered scikit-learn.org. See: https://github.com/scikit-learn/scikit-learn/issues/21755 */display: inline-block !important;position: relative;}#sk-container-id-1 div.sk-text-repr-fallback {display: none;}</style><div id=\"sk-container-id-1\" class=\"sk-top-container\"><div class=\"sk-text-repr-fallback\"><pre>RandomForestRegressor(random_state=42)</pre><b>In a Jupyter environment, please rerun this cell to show the HTML representation or trust the notebook. <br />On GitHub, the HTML representation is unable to render, please try loading this page with nbviewer.org.</b></div><div class=\"sk-container\" hidden><div class=\"sk-item\"><div class=\"sk-estimator sk-toggleable\"><input class=\"sk-toggleable__control sk-hidden--visually\" id=\"sk-estimator-id-1\" type=\"checkbox\" checked><label for=\"sk-estimator-id-1\" class=\"sk-toggleable__label sk-toggleable__label-arrow\">RandomForestRegressor</label><div class=\"sk-toggleable__content\"><pre>RandomForestRegressor(random_state=42)</pre></div></div></div></div></div>"
      ],
      "text/plain": [
       "RandomForestRegressor(random_state=42)"
      ]
     },
     "execution_count": 35,
     "metadata": {},
     "output_type": "execute_result"
    }
   ],
   "source": [
    "# Random Forest\n",
    "rf = RandomForestRegressor(n_estimators = 100, random_state = 42)\n",
    "\n",
    "#fit to data\n",
    "rf.fit(X_train, y_train)"
   ]
  },
  {
   "cell_type": "code",
   "execution_count": 36,
   "id": "ecf6c013",
   "metadata": {},
   "outputs": [],
   "source": [
    "# get Imp features\n",
    "feature_imp = rf.feature_importances_"
   ]
  },
  {
   "cell_type": "code",
   "execution_count": 37,
   "id": "5d19ac75",
   "metadata": {},
   "outputs": [],
   "source": [
    "#Sort feature imps\n",
    "sorted_indices = feature_imp.argsort()[::-1]"
   ]
  },
  {
   "cell_type": "code",
   "execution_count": 38,
   "id": "65b13cb1",
   "metadata": {},
   "outputs": [
    {
     "data": {
      "text/plain": [
       "array([  7,   8,   5,   0,  47,  70,  54,  13,  12,  17,  16,  38,  50,\n",
       "        24,  56,  15,  23,   2,  57,  20,  27,  30,  58,   4,  55,  44,\n",
       "         9,  64,  71,  35,  37,  31,  36,  14,  72,  62,  33,  49,  34,\n",
       "        26,  39,  32,  60,  69,  43,  48,  11,  18,  65,  59,  61,  21,\n",
       "        25,  19,  22,  67, 129,  63,  10,  66,  52,  28, 127,  42,  51,\n",
       "        79, 137, 105, 101, 116, 108,   1,  40, 138, 140,  92,  45,  68,\n",
       "        46,  90, 141,  91, 115, 139,  80, 103,  98, 114,  53,  78, 128,\n",
       "       102,  41, 126,  81, 104,  77, 111, 125,  89,  84,  86, 119,  73,\n",
       "       133, 106, 117,  97, 131,  29,  75, 100, 124, 130,  99,  76, 135,\n",
       "       142, 121, 123, 120, 113, 107,  95, 112,  93, 109, 122, 134,  96,\n",
       "        94,  85, 143, 118,  82,  87, 110,  88,  74, 144, 132, 136,  83,\n",
       "         3,   6], dtype=int64)"
      ]
     },
     "execution_count": 38,
     "metadata": {},
     "output_type": "execute_result"
    }
   ],
   "source": [
    "sorted_indices"
   ]
  },
  {
   "cell_type": "code",
   "execution_count": 39,
   "id": "3d5fe8aa",
   "metadata": {},
   "outputs": [],
   "source": [
    "# selected features based in importance\n",
    "no_features = 10\n",
    "selected_features_indices = sorted_indices[:no_features]\n",
    "selected_features = X_train.columns[selected_features_indices]"
   ]
  },
  {
   "cell_type": "code",
   "execution_count": 40,
   "id": "daa672c9",
   "metadata": {},
   "outputs": [
    {
     "data": {
      "text/plain": [
       "Index(['breast_cancer_diagnosis_code', 'metastatic_cancer_diagnosis_code',\n",
       "       'patient_age', 'payer_type', 'rent_burden', 'commute_time',\n",
       "       'education_stem_degree', 'age_10_to_19', 'age_under_10', 'age_50s'],\n",
       "      dtype='object')"
      ]
     },
     "execution_count": 40,
     "metadata": {},
     "output_type": "execute_result"
    }
   ],
   "source": [
    "selected_features"
   ]
  },
  {
   "cell_type": "code",
   "execution_count": 41,
   "id": "cf11f608",
   "metadata": {},
   "outputs": [],
   "source": [
    "X_train_selected = X_train[selected_features]\n",
    "X_test_selected = X_test[selected_features]"
   ]
  },
  {
   "cell_type": "code",
   "execution_count": 42,
   "id": "ae94d5c6",
   "metadata": {},
   "outputs": [],
   "source": [
    "rf.fit(X_train_selected, y_train)\n",
    "\n",
    "# get accuracy\n",
    "accuracy = rf.score(X_test_selected, y_test)"
   ]
  },
  {
   "cell_type": "code",
   "execution_count": 43,
   "id": "277e3474",
   "metadata": {},
   "outputs": [
    {
     "name": "stdout",
     "output_type": "stream",
     "text": [
      "Selected features -  Index(['breast_cancer_diagnosis_code', 'metastatic_cancer_diagnosis_code',\n",
      "       'patient_age', 'payer_type', 'rent_burden', 'commute_time',\n",
      "       'education_stem_degree', 'age_10_to_19', 'age_under_10', 'age_50s'],\n",
      "      dtype='object')\n",
      "Accuracy -  0.34447777962266857\n"
     ]
    }
   ],
   "source": [
    "#Print features & accuracy \n",
    "print(\"Selected features - \",selected_features)\n",
    "print(\"Accuracy - \",accuracy)"
   ]
  },
  {
   "cell_type": "code",
   "execution_count": 44,
   "id": "8a48dee7",
   "metadata": {},
   "outputs": [],
   "source": [
    "# RMSE for eval\n",
    "def rmse(y_expect, y_pred):\n",
    "    return np.sqrt(mean_squared_error(y_expect,y_pred))"
   ]
  },
  {
   "cell_type": "code",
   "execution_count": 45,
   "id": "6df40f52",
   "metadata": {},
   "outputs": [],
   "source": [
    "rf_predict = rmse(y_test, rf.predict(X_test_selected))"
   ]
  },
  {
   "cell_type": "code",
   "execution_count": 46,
   "id": "78c8d9e0",
   "metadata": {},
   "outputs": [
    {
     "data": {
      "text/plain": [
       "89.24687041130657"
      ]
     },
     "execution_count": 46,
     "metadata": {},
     "output_type": "execute_result"
    }
   ],
   "source": [
    "rf_predict"
   ]
  },
  {
   "cell_type": "code",
   "execution_count": 47,
   "id": "59f37d96",
   "metadata": {},
   "outputs": [],
   "source": [
    "#CatBoost\n",
    "ctb = CatBoostRegressor( \n",
    "    random_state=42,\n",
    "    learning_rate=0.02,\n",
    "    verbose=False,\n",
    "    cat_features=['patient_age'],\n",
    "    eval_metric='RMSE'\n",
    ").fit(X_train_selected, y_train, eval_set=(X_test_selected, y_test), use_best_model=True)"
   ]
  },
  {
   "cell_type": "code",
   "execution_count": 48,
   "id": "00d1586d",
   "metadata": {},
   "outputs": [],
   "source": [
    "ctb_predict = rmse(y_test, ctb.predict(X_test_selected))"
   ]
  },
  {
   "cell_type": "code",
   "execution_count": 49,
   "id": "e9332cfd",
   "metadata": {},
   "outputs": [
    {
     "data": {
      "text/plain": [
       "81.70846275809565"
      ]
     },
     "execution_count": 49,
     "metadata": {},
     "output_type": "execute_result"
    }
   ],
   "source": [
    "ctb_predict"
   ]
  },
  {
   "cell_type": "code",
   "execution_count": 50,
   "id": "92516524",
   "metadata": {},
   "outputs": [
    {
     "name": "stderr",
     "output_type": "stream",
     "text": [
      "C:\\Users\\Hp\\PycharmProjects\\testpythonProject\\venv\\Lib\\site-packages\\xgboost\\sklearn.py:889: UserWarning: `early_stopping_rounds` in `fit` method is deprecated for better compatibility with scikit-learn, use `early_stopping_rounds` in constructor or`set_params` instead.\n",
      "  warnings.warn(\n"
     ]
    }
   ],
   "source": [
    "#XGB\n",
    "xgb = XGBRegressor(\n",
    "    random_state=42,\n",
    "    learning_rate=0.02,\n",
    "    verbosity=0,\n",
    "    eval_metric='rmse',\n",
    "    tree_method='hist',  # Use 'hist' method for faster training,\n",
    "    enable_categorical=True\n",
    ").fit(X_train_selected, y_train, eval_set=[(X_test_selected, y_test)], early_stopping_rounds=10, verbose=False)"
   ]
  },
  {
   "cell_type": "code",
   "execution_count": 51,
   "id": "1fa6b56c",
   "metadata": {},
   "outputs": [],
   "source": [
    "xgb_predict = rmse(y_test, xgb.predict(X_test_selected))"
   ]
  },
  {
   "cell_type": "code",
   "execution_count": 52,
   "id": "2a5cf518",
   "metadata": {},
   "outputs": [
    {
     "data": {
      "text/plain": [
       "83.47099507020475"
      ]
     },
     "execution_count": 52,
     "metadata": {},
     "output_type": "execute_result"
    }
   ],
   "source": [
    "xgb_predict"
   ]
  },
  {
   "cell_type": "code",
   "execution_count": 53,
   "id": "f9fcbb6a",
   "metadata": {},
   "outputs": [],
   "source": [
    "#LGBM\n",
    "lgb = LGBMRegressor(\n",
    "    random_state=42,\n",
    "    learning_rate=0.02,\n",
    "    metric='rmse',\n",
    "    verbose=-1,\n",
    "    early_stopping_rounds=10\n",
    ").fit(X_train_selected, y_train, eval_set=[(X_test_selected, y_test)])"
   ]
  },
  {
   "cell_type": "code",
   "execution_count": 60,
   "id": "c825b45c",
   "metadata": {},
   "outputs": [],
   "source": [
    "lgb_predict = rmse(y_test, lgb.predict(X_test_selected))"
   ]
  },
  {
   "cell_type": "code",
   "execution_count": 61,
   "id": "acaf9491",
   "metadata": {},
   "outputs": [
    {
     "data": {
      "text/plain": [
       "83.43092392507383"
      ]
     },
     "execution_count": 61,
     "metadata": {},
     "output_type": "execute_result"
    }
   ],
   "source": [
    "lgb_predict"
   ]
  },
  {
   "cell_type": "code",
   "execution_count": 63,
   "id": "69375c7b",
   "metadata": {},
   "outputs": [],
   "source": [
    "#MLP\n",
    "# Initialize MLPRegressor\n",
    "mlp = MLPRegressor(\n",
    "    random_state=42,\n",
    "    learning_rate_init=0.02,\n",
    "    max_iter=1000,\n",
    "    early_stopping=True,\n",
    "    validation_fraction=0.1,\n",
    "    verbose=False\n",
    ").fit(X_train_selected, y_train)"
   ]
  },
  {
   "cell_type": "code",
   "execution_count": 64,
   "id": "07ab2594",
   "metadata": {},
   "outputs": [],
   "source": [
    "mlp_predict = rmse(y_test, mlp.predict(X_test_selected))"
   ]
  },
  {
   "cell_type": "code",
   "execution_count": 65,
   "id": "acf22dc6",
   "metadata": {},
   "outputs": [
    {
     "data": {
      "text/plain": [
       "83.44361335787423"
      ]
     },
     "execution_count": 65,
     "metadata": {},
     "output_type": "execute_result"
    }
   ],
   "source": [
    "mlp_predict"
   ]
  },
  {
   "cell_type": "code",
   "execution_count": null,
   "id": "a32a9b31",
   "metadata": {},
   "outputs": [],
   "source": []
  },
  {
   "cell_type": "code",
   "execution_count": null,
   "id": "e89be4f6",
   "metadata": {},
   "outputs": [],
   "source": [
    "## Use the best model based on lowest RMSE to generate output file"
   ]
  },
  {
   "cell_type": "code",
   "execution_count": 54,
   "id": "3d70eb28",
   "metadata": {},
   "outputs": [],
   "source": [
    "# label Encoding for Test data\n",
    "test_data['payer_type'] = le_payer_type.fit_transform(test_data['payer_type'])\n",
    "test_data['patient_state'] = le_payer_type.fit_transform(test_data['patient_state'])\n",
    "test_data['patient_zip3'] = le_payer_type.fit_transform(test_data['patient_zip3'])\n",
    "test_data['Region'] = le_payer_type.fit_transform(test_data['Region'])\n",
    "test_data['Division'] = le_payer_type.fit_transform(test_data['Division'])\n",
    "test_data['breast_cancer_diagnosis_code'] = le_payer_type.fit_transform(test_data['breast_cancer_diagnosis_code'])\n",
    "test_data['metastatic_cancer_diagnosis_code'] = le_payer_type.fit_transform(test_data['metastatic_cancer_diagnosis_code'])\n",
    "test_data['patient_gender'] = le_payer_type.fit_transform(test_data['patient_gender'])"
   ]
  },
  {
   "cell_type": "code",
   "execution_count": 55,
   "id": "f7cb3aba",
   "metadata": {},
   "outputs": [],
   "source": [
    "#selected feature\n",
    "test_data_X = test_data[selected_features]"
   ]
  },
  {
   "cell_type": "code",
   "execution_count": 56,
   "id": "7858cc15",
   "metadata": {},
   "outputs": [],
   "source": [
    "# Predict\n",
    "test_data_result = ctb.predict(test_data_X)"
   ]
  },
  {
   "cell_type": "code",
   "execution_count": 57,
   "id": "a0b7a296",
   "metadata": {},
   "outputs": [],
   "source": [
    "# Update solution\n",
    "solution_data['metastatic_diagnosis_period'] = test_data_result"
   ]
  },
  {
   "cell_type": "code",
   "execution_count": 58,
   "id": "d766326b",
   "metadata": {},
   "outputs": [
    {
     "data": {
      "text/html": [
       "<div>\n",
       "<style scoped>\n",
       "    .dataframe tbody tr th:only-of-type {\n",
       "        vertical-align: middle;\n",
       "    }\n",
       "\n",
       "    .dataframe tbody tr th {\n",
       "        vertical-align: top;\n",
       "    }\n",
       "\n",
       "    .dataframe thead th {\n",
       "        text-align: right;\n",
       "    }\n",
       "</style>\n",
       "<table border=\"1\" class=\"dataframe\">\n",
       "  <thead>\n",
       "    <tr style=\"text-align: right;\">\n",
       "      <th></th>\n",
       "      <th>patient_id</th>\n",
       "      <th>metastatic_diagnosis_period</th>\n",
       "    </tr>\n",
       "  </thead>\n",
       "  <tbody>\n",
       "    <tr>\n",
       "      <th>0</th>\n",
       "      <td>730681</td>\n",
       "      <td>209.909052</td>\n",
       "    </tr>\n",
       "    <tr>\n",
       "      <th>1</th>\n",
       "      <td>334212</td>\n",
       "      <td>66.351369</td>\n",
       "    </tr>\n",
       "    <tr>\n",
       "      <th>2</th>\n",
       "      <td>571362</td>\n",
       "      <td>195.280579</td>\n",
       "    </tr>\n",
       "    <tr>\n",
       "      <th>3</th>\n",
       "      <td>907331</td>\n",
       "      <td>211.735478</td>\n",
       "    </tr>\n",
       "    <tr>\n",
       "      <th>4</th>\n",
       "      <td>208382</td>\n",
       "      <td>59.400490</td>\n",
       "    </tr>\n",
       "  </tbody>\n",
       "</table>\n",
       "</div>"
      ],
      "text/plain": [
       "   patient_id  metastatic_diagnosis_period\n",
       "0      730681                   209.909052\n",
       "1      334212                    66.351369\n",
       "2      571362                   195.280579\n",
       "3      907331                   211.735478\n",
       "4      208382                    59.400490"
      ]
     },
     "execution_count": 58,
     "metadata": {},
     "output_type": "execute_result"
    }
   ],
   "source": [
    "solution_data.head(5)"
   ]
  },
  {
   "cell_type": "code",
   "execution_count": 59,
   "id": "00621e9c",
   "metadata": {},
   "outputs": [],
   "source": [
    "solution_data.to_csv(\"solution_ctb1.csv\",index=False)"
   ]
  },
  {
   "cell_type": "code",
   "execution_count": null,
   "id": "b38ca45c",
   "metadata": {},
   "outputs": [],
   "source": []
  }
 ],
 "metadata": {
  "kernelspec": {
   "display_name": "Python 3 (ipykernel)",
   "language": "python",
   "name": "python3"
  },
  "language_info": {
   "codemirror_mode": {
    "name": "ipython",
    "version": 3
   },
   "file_extension": ".py",
   "mimetype": "text/x-python",
   "name": "python",
   "nbconvert_exporter": "python",
   "pygments_lexer": "ipython3",
   "version": "3.11.2"
  }
 },
 "nbformat": 4,
 "nbformat_minor": 5
}
